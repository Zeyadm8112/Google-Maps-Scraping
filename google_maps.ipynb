{
 "cells": [
  {
   "cell_type": "code",
   "execution_count": 5,
   "id": "d019c454",
   "metadata": {},
   "outputs": [],
   "source": [
    "from selenium import webdriver\n",
    "from selenium.webdriver.common.by import By\n",
    "import csv\n"
   ]
  },
  {
   "cell_type": "code",
   "execution_count": 22,
   "id": "419e54cb",
   "metadata": {},
   "outputs": [],
   "source": [
    "# Set up the driver\n",
    "driver = webdriver.Chrome()\n",
    "\n",
    "# Navigate to Google Maps\n",
    "driver.get(\"https://www.google.com/maps\")"
   ]
  },
  {
   "cell_type": "code",
   "execution_count": 23,
   "id": "3a5cc8d5",
   "metadata": {},
   "outputs": [],
   "source": [
    "\n",
    "# Find the search bar and enter the postcode 2977\n",
    "search_bar = driver.find_element(By.NAME,\"q\")\n",
    "search_bar.send_keys(\"Canberra ACT 0230\")\n",
    "search_bar.submit()\n",
    "search_button=driver.find_element(By.XPATH,'//*[@id=\"searchbox-searchbutton\"]')\n",
    "search_button.click()\n",
    "\n",
    "# Wait for the search results to load\n",
    "driver.implicitly_wait(10)\n",
    "\n",
    "# Click on \"Nearby\" and select \"Fishing stores\"\n",
    "nearby_btn = driver.find_element(By.XPATH,'//*[@id=\"QA0Szd\"]/div/div/div[1]/div[2]/div/div[1]/div/div/div[4]/div[3]/button/span')\n",
    "nearby_btn.click()\n",
    "fishing_stores_search = driver.find_element(By.XPATH,'//*[@id=\"searchboxinput\"]')\n",
    "fishing_stores_search.send_keys('Fishing Stores')\n",
    "fishing_stores_search.submit()\n",
    "search_button.click()\n",
    "\n",
    "\n"
   ]
  },
  {
   "cell_type": "code",
   "execution_count": 34,
   "id": "81504d9b",
   "metadata": {},
   "outputs": [
    {
     "ename": "IndexError",
     "evalue": "list index out of range",
     "output_type": "error",
     "traceback": [
      "\u001b[1;31m---------------------------------------------------------------------------\u001b[0m",
      "\u001b[1;31mIndexError\u001b[0m                                Traceback (most recent call last)",
      "Cell \u001b[1;32mIn[34], line 4\u001b[0m\n\u001b[0;32m      2\u001b[0m titles\u001b[38;5;241m=\u001b[39mdriver\u001b[38;5;241m.\u001b[39mfind_elements(By\u001b[38;5;241m.\u001b[39mXPATH,\u001b[38;5;124m'\u001b[39m\u001b[38;5;124m//*[@id=\u001b[39m\u001b[38;5;124m\"\u001b[39m\u001b[38;5;124mQA0Szd\u001b[39m\u001b[38;5;124m\"\u001b[39m\u001b[38;5;124m]/div/div/div[1]/div[2]/div/div[1]/div/div/div[2]/div[1]/div[5]/div/a\u001b[39m\u001b[38;5;124m'\u001b[39m)\n\u001b[0;32m      3\u001b[0m \u001b[38;5;28;01mfor\u001b[39;00m title \u001b[38;5;129;01min\u001b[39;00m titles:\n\u001b[1;32m----> 4\u001b[0m         title_text \u001b[38;5;241m=\u001b[39m \u001b[43mtitle\u001b[49m\u001b[38;5;241;43m.\u001b[39;49m\u001b[43mget_attribute\u001b[49m\u001b[43m(\u001b[49m\u001b[38;5;124;43m\"\u001b[39;49m\u001b[38;5;124;43minnerHTML\u001b[39;49m\u001b[38;5;124;43m\"\u001b[39;49m\u001b[43m)\u001b[49m\u001b[38;5;241;43m.\u001b[39;49m\u001b[43msplitlines\u001b[49m\u001b[43m(\u001b[49m\u001b[43m)\u001b[49m\u001b[43m[\u001b[49m\u001b[38;5;241;43m1\u001b[39;49m\u001b[43m]\u001b[49m\n\u001b[0;32m      5\u001b[0m         \u001b[38;5;66;03m#link_list.append(link_text)\u001b[39;00m\n\u001b[0;32m      6\u001b[0m \u001b[38;5;28mprint\u001b[39m(title_text)\n",
      "\u001b[1;31mIndexError\u001b[0m: list index out of range"
     ]
    }
   ],
   "source": [
    "#title\n",
    "titles=driver.find_elements(By.XPATH,'//*[@id=\"QA0Szd\"]/div/div/div[1]/div[2]/div/div[1]/div/div/div[2]/div[1]/div[5]/div/a')\n",
    "for title in titles:\n",
    "        title_text = title.get_attribute(\"innerHTML\").splitlines()[0]\n",
    "        #link_list.append(link_text)\n",
    "print(title_text)\n",
    "#link\n"
   ]
  },
  {
   "cell_type": "code",
   "execution_count": null,
   "id": "80a90e80",
   "metadata": {},
   "outputs": [],
   "source": [
    "# Scrape the name and address of each business in the results\n",
    "with open('fishing_stores.csv', mode='w', newline='', encoding='utf-8') as file:\n",
    "    writer = csv.writer(file)\n",
    "    writer.writerow(['Name', 'Address'])\n",
    "    results = driver.find_elements(By.CSS_SELECTOR,\"div.section-result-text-content\")\n",
    "    for result in results:\n",
    "        name = result.find_element(By.CSS_SELECTOR,\"h3.section-result-title span\").text\n",
    "        address = result.find_element(By.CSS_SELECTOR,\"span.section-result-location\").text\n",
    "        writer.writerow([name, address])\n"
   ]
  }
 ],
 "metadata": {
  "kernelspec": {
   "display_name": "Python 3 (ipykernel)",
   "language": "python",
   "name": "python3"
  },
  "language_info": {
   "codemirror_mode": {
    "name": "ipython",
    "version": 3
   },
   "file_extension": ".py",
   "mimetype": "text/x-python",
   "name": "python",
   "nbconvert_exporter": "python",
   "pygments_lexer": "ipython3",
   "version": "3.10.9"
  }
 },
 "nbformat": 4,
 "nbformat_minor": 5
}
